{
  "nbformat": 4,
  "nbformat_minor": 0,
  "metadata": {
    "colab": {
      "provenance": [],
      "authorship_tag": "ABX9TyMsXGGcnZqmFAsgGrs9fUTl",
      "include_colab_link": true
    },
    "kernelspec": {
      "name": "python3",
      "display_name": "Python 3"
    },
    "language_info": {
      "name": "python"
    }
  },
  "cells": [
    {
      "cell_type": "markdown",
      "metadata": {
        "id": "view-in-github",
        "colab_type": "text"
      },
      "source": [
        "<a href=\"https://colab.research.google.com/github/Maahishah/-Class-53-Do-You-Know-this-/blob/main/Class97Maahi.ipynb\" target=\"_parent\"><img src=\"https://colab.research.google.com/assets/colab-badge.svg\" alt=\"Open In Colab\"/></a>"
      ]
    },
    {
      "cell_type": "markdown",
      "source": [
        "This is class 97. This class talks about the fundamentals of language called Python."
      ],
      "metadata": {
        "id": "pVskW9guln2m"
      }
    },
    {
      "cell_type": "code",
      "source": [
        "num1 = 9\n",
        "print (\"It is a number\",num1)"
      ],
      "metadata": {
        "colab": {
          "base_uri": "https://localhost:8080/"
        },
        "id": "rz4VS2q4mLDO",
        "outputId": "20d96a63-1674-4ea7-f525-51851b062bd0"
      },
      "execution_count": 2,
      "outputs": [
        {
          "output_type": "stream",
          "name": "stdout",
          "text": [
            "It is a number 9\n"
          ]
        }
      ]
    },
    {
      "cell_type": "code",
      "source": [
        "name = [4,6]\n",
        "print (\"My name is\", type(name))"
      ],
      "metadata": {
        "colab": {
          "base_uri": "https://localhost:8080/"
        },
        "id": "OszLjRNamzqz",
        "outputId": "b669664f-ee1d-4a7f-d1c7-bc486f14eedd"
      },
      "execution_count": 6,
      "outputs": [
        {
          "output_type": "stream",
          "name": "stdout",
          "text": [
            "My name is <class 'list'>\n"
          ]
        }
      ]
    },
    {
      "cell_type": "code",
      "source": [
        "#add the two number\n",
        "num1 = 2\n",
        "num2 = 3\n",
        "add = num1 +num2\n",
        "print(\"the additon is\", add)"
      ],
      "metadata": {
        "colab": {
          "base_uri": "https://localhost:8080/"
        },
        "id": "cLvxGak-nfKr",
        "outputId": "8a641e5e-fb84-4b49-f16d-f3f63b2c28d5"
      },
      "execution_count": 7,
      "outputs": [
        {
          "output_type": "stream",
          "name": "stdout",
          "text": [
            "the additon is 5\n"
          ]
        }
      ]
    },
    {
      "cell_type": "markdown",
      "source": [
        "Let us learn about functions in python\n",
        " First we have to use a keyboard def followed by the function name code within the function does not need curly parantheses, instead the proper indentation is recommend. lets write a function to convert temperature to farenheit.\n"
      ],
      "metadata": {
        "id": "c7_zBmJzn0Qe"
      }
    },
    {
      "cell_type": "code",
      "source": [
        "def convert_to_faren(celsius):\n",
        "  fahrenheit = ((celsius)  * (9/5)) + 32\n",
        "  return fahrenheit\n",
        "\n",
        "\n",
        "\n",
        "convert_to_faren(32.5)\n",
        "convert_to_faren(100)"
      ],
      "metadata": {
        "colab": {
          "base_uri": "https://localhost:8080/"
        },
        "id": "RmQkt1GSoNEF",
        "outputId": "125b7542-3a20-42ec-9f89-78e385f898f3"
      },
      "execution_count": 10,
      "outputs": [
        {
          "output_type": "execute_result",
          "data": {
            "text/plain": [
              "212.0"
            ]
          },
          "metadata": {},
          "execution_count": 10
        }
      ]
    },
    {
      "cell_type": "code",
      "source": [
        "print (\"enter yor salary\")\n",
        "val = input()\n",
        "print (\"the slary is\", val)"
      ],
      "metadata": {
        "colab": {
          "base_uri": "https://localhost:8080/"
        },
        "id": "2HPrlm-Np1Bu",
        "outputId": "8ed8ad3b-47c1-49c1-90fc-ef3e9be29342"
      },
      "execution_count": null,
      "outputs": [
        {
          "output_type": "stream",
          "name": "stdout",
          "text": [
            "enter yor salary\n"
          ]
        }
      ]
    }
  ]
}